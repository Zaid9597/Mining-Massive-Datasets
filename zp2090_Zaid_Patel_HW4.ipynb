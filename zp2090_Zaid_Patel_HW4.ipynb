{
  "nbformat": 4,
  "nbformat_minor": 0,
  "metadata": {
    "colab": {
      "name": "zp2090_Zaid_Patel_HW4.ipynb",
      "provenance": [],
      "collapsed_sections": []
    },
    "kernelspec": {
      "name": "python3",
      "display_name": "Python 3"
    },
    "language_info": {
      "name": "python"
    }
  },
  "cells": [
    {
      "cell_type": "markdown",
      "source": [
        "# Homework 4: K means and PCA"
      ],
      "metadata": {
        "id": "ZI48k7dxr0JM"
      }
    },
    {
      "cell_type": "markdown",
      "source": [
        "## Setup"
      ],
      "metadata": {
        "id": "Sj_UohOusJxO"
      }
    },
    {
      "cell_type": "code",
      "source": [
        "import pandas as pd\n",
        "import numpy as np\n",
        "import matplotlib.pyplot as plt\n",
        "%matplotlib inline\n",
        "import warnings\n",
        "warnings.filterwarnings('ignore')\n",
        "from statistics import mean\n",
        "import random"
      ],
      "metadata": {
        "id": "cPMHTQvGr-v1"
      },
      "execution_count": null,
      "outputs": []
    },
    {
      "cell_type": "markdown",
      "source": [
        "## Data Preprocessing"
      ],
      "metadata": {
        "id": "yFjm5cF-smh5"
      }
    },
    {
      "cell_type": "markdown",
      "source": [
        "In this Colab, rather than downloading a file from Google Drive, we will load a famous machine learning dataset, the [Breast Cancer Wisconsin dataset](https://scikit-learn.org/stable/modules/generated/sklearn.datasets.load_breast_cancer.html), using the ```scikit-learn``` datasets loader."
      ],
      "metadata": {
        "id": "bw_3RIzisvQ6"
      }
    },
    {
      "cell_type": "code",
      "source": [
        "from sklearn.datasets import load_breast_cancer\n",
        "from sklearn.cluster import KMeans\n",
        "from sklearn.metrics import silhouette_samples, silhouette_score\n",
        "from sklearn.preprocessing import StandardScaler"
      ],
      "metadata": {
        "id": "VEK0yhWQsk7Q"
      },
      "execution_count": null,
      "outputs": []
    },
    {
      "cell_type": "code",
      "source": [
        "#Shape of data (X) and target (Y) values\n",
        "\n",
        "breast_cancer = load_breast_cancer()\n",
        "print(breast_cancer.target.shape)\n",
        "print(breast_cancer.data.shape)\n",
        "print(breast_cancer.feature_names)"
      ],
      "metadata": {
        "colab": {
          "base_uri": "https://localhost:8080/"
        },
        "id": "uW6cuteStt-G",
        "outputId": "d322e5d8-216d-4092-b8be-c2868966893f"
      },
      "execution_count": null,
      "outputs": [
        {
          "output_type": "stream",
          "name": "stdout",
          "text": [
            "(569,)\n",
            "(569, 30)\n",
            "['mean radius' 'mean texture' 'mean perimeter' 'mean area'\n",
            " 'mean smoothness' 'mean compactness' 'mean concavity'\n",
            " 'mean concave points' 'mean symmetry' 'mean fractal dimension'\n",
            " 'radius error' 'texture error' 'perimeter error' 'area error'\n",
            " 'smoothness error' 'compactness error' 'concavity error'\n",
            " 'concave points error' 'symmetry error' 'fractal dimension error'\n",
            " 'worst radius' 'worst texture' 'worst perimeter' 'worst area'\n",
            " 'worst smoothness' 'worst compactness' 'worst concavity'\n",
            " 'worst concave points' 'worst symmetry' 'worst fractal dimension']\n"
          ]
        }
      ]
    },
    {
      "cell_type": "markdown",
      "source": [
        "For convenience, given that the dataset is small, we first construct a Pandas dataframe and a Numpy array:\n",
        "*   ```features```, a dataframe of Dense vectors, containing all the original features in the dataset;\n",
        "*   ```labels```, a series of binary labels indicating if the corresponding set of features belongs to a subject with breast cancer, or not.\n",
        "\n"
      ],
      "metadata": {
        "id": "GfpFpXPmvrDD"
      }
    },
    {
      "cell_type": "code",
      "source": [
        "features = pd.DataFrame(breast_cancer.data, columns=breast_cancer.feature_names)\n",
        "features.head(5)"
      ],
      "metadata": {
        "colab": {
          "base_uri": "https://localhost:8080/",
          "height": 334
        },
        "id": "6ug-clj1t1Kc",
        "outputId": "4341359a-2183-4800-bba2-fc0b93eea2cf"
      },
      "execution_count": null,
      "outputs": [
        {
          "output_type": "execute_result",
          "data": {
            "text/plain": [
              "   mean radius  mean texture  mean perimeter  mean area  mean smoothness  \\\n",
              "0        17.99         10.38          122.80     1001.0          0.11840   \n",
              "1        20.57         17.77          132.90     1326.0          0.08474   \n",
              "2        19.69         21.25          130.00     1203.0          0.10960   \n",
              "3        11.42         20.38           77.58      386.1          0.14250   \n",
              "4        20.29         14.34          135.10     1297.0          0.10030   \n",
              "\n",
              "   mean compactness  mean concavity  mean concave points  mean symmetry  \\\n",
              "0           0.27760          0.3001              0.14710         0.2419   \n",
              "1           0.07864          0.0869              0.07017         0.1812   \n",
              "2           0.15990          0.1974              0.12790         0.2069   \n",
              "3           0.28390          0.2414              0.10520         0.2597   \n",
              "4           0.13280          0.1980              0.10430         0.1809   \n",
              "\n",
              "   mean fractal dimension  ...  worst radius  worst texture  worst perimeter  \\\n",
              "0                 0.07871  ...         25.38          17.33           184.60   \n",
              "1                 0.05667  ...         24.99          23.41           158.80   \n",
              "2                 0.05999  ...         23.57          25.53           152.50   \n",
              "3                 0.09744  ...         14.91          26.50            98.87   \n",
              "4                 0.05883  ...         22.54          16.67           152.20   \n",
              "\n",
              "   worst area  worst smoothness  worst compactness  worst concavity  \\\n",
              "0      2019.0            0.1622             0.6656           0.7119   \n",
              "1      1956.0            0.1238             0.1866           0.2416   \n",
              "2      1709.0            0.1444             0.4245           0.4504   \n",
              "3       567.7            0.2098             0.8663           0.6869   \n",
              "4      1575.0            0.1374             0.2050           0.4000   \n",
              "\n",
              "   worst concave points  worst symmetry  worst fractal dimension  \n",
              "0                0.2654          0.4601                  0.11890  \n",
              "1                0.1860          0.2750                  0.08902  \n",
              "2                0.2430          0.3613                  0.08758  \n",
              "3                0.2575          0.6638                  0.17300  \n",
              "4                0.1625          0.2364                  0.07678  \n",
              "\n",
              "[5 rows x 30 columns]"
            ],
            "text/html": [
              "\n",
              "  <div id=\"df-9893df27-93b6-4dd2-8ac3-a8fd4e8c9737\">\n",
              "    <div class=\"colab-df-container\">\n",
              "      <div>\n",
              "<style scoped>\n",
              "    .dataframe tbody tr th:only-of-type {\n",
              "        vertical-align: middle;\n",
              "    }\n",
              "\n",
              "    .dataframe tbody tr th {\n",
              "        vertical-align: top;\n",
              "    }\n",
              "\n",
              "    .dataframe thead th {\n",
              "        text-align: right;\n",
              "    }\n",
              "</style>\n",
              "<table border=\"1\" class=\"dataframe\">\n",
              "  <thead>\n",
              "    <tr style=\"text-align: right;\">\n",
              "      <th></th>\n",
              "      <th>mean radius</th>\n",
              "      <th>mean texture</th>\n",
              "      <th>mean perimeter</th>\n",
              "      <th>mean area</th>\n",
              "      <th>mean smoothness</th>\n",
              "      <th>mean compactness</th>\n",
              "      <th>mean concavity</th>\n",
              "      <th>mean concave points</th>\n",
              "      <th>mean symmetry</th>\n",
              "      <th>mean fractal dimension</th>\n",
              "      <th>...</th>\n",
              "      <th>worst radius</th>\n",
              "      <th>worst texture</th>\n",
              "      <th>worst perimeter</th>\n",
              "      <th>worst area</th>\n",
              "      <th>worst smoothness</th>\n",
              "      <th>worst compactness</th>\n",
              "      <th>worst concavity</th>\n",
              "      <th>worst concave points</th>\n",
              "      <th>worst symmetry</th>\n",
              "      <th>worst fractal dimension</th>\n",
              "    </tr>\n",
              "  </thead>\n",
              "  <tbody>\n",
              "    <tr>\n",
              "      <th>0</th>\n",
              "      <td>17.99</td>\n",
              "      <td>10.38</td>\n",
              "      <td>122.80</td>\n",
              "      <td>1001.0</td>\n",
              "      <td>0.11840</td>\n",
              "      <td>0.27760</td>\n",
              "      <td>0.3001</td>\n",
              "      <td>0.14710</td>\n",
              "      <td>0.2419</td>\n",
              "      <td>0.07871</td>\n",
              "      <td>...</td>\n",
              "      <td>25.38</td>\n",
              "      <td>17.33</td>\n",
              "      <td>184.60</td>\n",
              "      <td>2019.0</td>\n",
              "      <td>0.1622</td>\n",
              "      <td>0.6656</td>\n",
              "      <td>0.7119</td>\n",
              "      <td>0.2654</td>\n",
              "      <td>0.4601</td>\n",
              "      <td>0.11890</td>\n",
              "    </tr>\n",
              "    <tr>\n",
              "      <th>1</th>\n",
              "      <td>20.57</td>\n",
              "      <td>17.77</td>\n",
              "      <td>132.90</td>\n",
              "      <td>1326.0</td>\n",
              "      <td>0.08474</td>\n",
              "      <td>0.07864</td>\n",
              "      <td>0.0869</td>\n",
              "      <td>0.07017</td>\n",
              "      <td>0.1812</td>\n",
              "      <td>0.05667</td>\n",
              "      <td>...</td>\n",
              "      <td>24.99</td>\n",
              "      <td>23.41</td>\n",
              "      <td>158.80</td>\n",
              "      <td>1956.0</td>\n",
              "      <td>0.1238</td>\n",
              "      <td>0.1866</td>\n",
              "      <td>0.2416</td>\n",
              "      <td>0.1860</td>\n",
              "      <td>0.2750</td>\n",
              "      <td>0.08902</td>\n",
              "    </tr>\n",
              "    <tr>\n",
              "      <th>2</th>\n",
              "      <td>19.69</td>\n",
              "      <td>21.25</td>\n",
              "      <td>130.00</td>\n",
              "      <td>1203.0</td>\n",
              "      <td>0.10960</td>\n",
              "      <td>0.15990</td>\n",
              "      <td>0.1974</td>\n",
              "      <td>0.12790</td>\n",
              "      <td>0.2069</td>\n",
              "      <td>0.05999</td>\n",
              "      <td>...</td>\n",
              "      <td>23.57</td>\n",
              "      <td>25.53</td>\n",
              "      <td>152.50</td>\n",
              "      <td>1709.0</td>\n",
              "      <td>0.1444</td>\n",
              "      <td>0.4245</td>\n",
              "      <td>0.4504</td>\n",
              "      <td>0.2430</td>\n",
              "      <td>0.3613</td>\n",
              "      <td>0.08758</td>\n",
              "    </tr>\n",
              "    <tr>\n",
              "      <th>3</th>\n",
              "      <td>11.42</td>\n",
              "      <td>20.38</td>\n",
              "      <td>77.58</td>\n",
              "      <td>386.1</td>\n",
              "      <td>0.14250</td>\n",
              "      <td>0.28390</td>\n",
              "      <td>0.2414</td>\n",
              "      <td>0.10520</td>\n",
              "      <td>0.2597</td>\n",
              "      <td>0.09744</td>\n",
              "      <td>...</td>\n",
              "      <td>14.91</td>\n",
              "      <td>26.50</td>\n",
              "      <td>98.87</td>\n",
              "      <td>567.7</td>\n",
              "      <td>0.2098</td>\n",
              "      <td>0.8663</td>\n",
              "      <td>0.6869</td>\n",
              "      <td>0.2575</td>\n",
              "      <td>0.6638</td>\n",
              "      <td>0.17300</td>\n",
              "    </tr>\n",
              "    <tr>\n",
              "      <th>4</th>\n",
              "      <td>20.29</td>\n",
              "      <td>14.34</td>\n",
              "      <td>135.10</td>\n",
              "      <td>1297.0</td>\n",
              "      <td>0.10030</td>\n",
              "      <td>0.13280</td>\n",
              "      <td>0.1980</td>\n",
              "      <td>0.10430</td>\n",
              "      <td>0.1809</td>\n",
              "      <td>0.05883</td>\n",
              "      <td>...</td>\n",
              "      <td>22.54</td>\n",
              "      <td>16.67</td>\n",
              "      <td>152.20</td>\n",
              "      <td>1575.0</td>\n",
              "      <td>0.1374</td>\n",
              "      <td>0.2050</td>\n",
              "      <td>0.4000</td>\n",
              "      <td>0.1625</td>\n",
              "      <td>0.2364</td>\n",
              "      <td>0.07678</td>\n",
              "    </tr>\n",
              "  </tbody>\n",
              "</table>\n",
              "<p>5 rows × 30 columns</p>\n",
              "</div>\n",
              "      <button class=\"colab-df-convert\" onclick=\"convertToInteractive('df-9893df27-93b6-4dd2-8ac3-a8fd4e8c9737')\"\n",
              "              title=\"Convert this dataframe to an interactive table.\"\n",
              "              style=\"display:none;\">\n",
              "        \n",
              "  <svg xmlns=\"http://www.w3.org/2000/svg\" height=\"24px\"viewBox=\"0 0 24 24\"\n",
              "       width=\"24px\">\n",
              "    <path d=\"M0 0h24v24H0V0z\" fill=\"none\"/>\n",
              "    <path d=\"M18.56 5.44l.94 2.06.94-2.06 2.06-.94-2.06-.94-.94-2.06-.94 2.06-2.06.94zm-11 1L8.5 8.5l.94-2.06 2.06-.94-2.06-.94L8.5 2.5l-.94 2.06-2.06.94zm10 10l.94 2.06.94-2.06 2.06-.94-2.06-.94-.94-2.06-.94 2.06-2.06.94z\"/><path d=\"M17.41 7.96l-1.37-1.37c-.4-.4-.92-.59-1.43-.59-.52 0-1.04.2-1.43.59L10.3 9.45l-7.72 7.72c-.78.78-.78 2.05 0 2.83L4 21.41c.39.39.9.59 1.41.59.51 0 1.02-.2 1.41-.59l7.78-7.78 2.81-2.81c.8-.78.8-2.07 0-2.86zM5.41 20L4 18.59l7.72-7.72 1.47 1.35L5.41 20z\"/>\n",
              "  </svg>\n",
              "      </button>\n",
              "      \n",
              "  <style>\n",
              "    .colab-df-container {\n",
              "      display:flex;\n",
              "      flex-wrap:wrap;\n",
              "      gap: 12px;\n",
              "    }\n",
              "\n",
              "    .colab-df-convert {\n",
              "      background-color: #E8F0FE;\n",
              "      border: none;\n",
              "      border-radius: 50%;\n",
              "      cursor: pointer;\n",
              "      display: none;\n",
              "      fill: #1967D2;\n",
              "      height: 32px;\n",
              "      padding: 0 0 0 0;\n",
              "      width: 32px;\n",
              "    }\n",
              "\n",
              "    .colab-df-convert:hover {\n",
              "      background-color: #E2EBFA;\n",
              "      box-shadow: 0px 1px 2px rgba(60, 64, 67, 0.3), 0px 1px 3px 1px rgba(60, 64, 67, 0.15);\n",
              "      fill: #174EA6;\n",
              "    }\n",
              "\n",
              "    [theme=dark] .colab-df-convert {\n",
              "      background-color: #3B4455;\n",
              "      fill: #D2E3FC;\n",
              "    }\n",
              "\n",
              "    [theme=dark] .colab-df-convert:hover {\n",
              "      background-color: #434B5C;\n",
              "      box-shadow: 0px 1px 3px 1px rgba(0, 0, 0, 0.15);\n",
              "      filter: drop-shadow(0px 1px 2px rgba(0, 0, 0, 0.3));\n",
              "      fill: #FFFFFF;\n",
              "    }\n",
              "  </style>\n",
              "\n",
              "      <script>\n",
              "        const buttonEl =\n",
              "          document.querySelector('#df-9893df27-93b6-4dd2-8ac3-a8fd4e8c9737 button.colab-df-convert');\n",
              "        buttonEl.style.display =\n",
              "          google.colab.kernel.accessAllowed ? 'block' : 'none';\n",
              "\n",
              "        async function convertToInteractive(key) {\n",
              "          const element = document.querySelector('#df-9893df27-93b6-4dd2-8ac3-a8fd4e8c9737');\n",
              "          const dataTable =\n",
              "            await google.colab.kernel.invokeFunction('convertToInteractive',\n",
              "                                                     [key], {});\n",
              "          if (!dataTable) return;\n",
              "\n",
              "          const docLinkHtml = 'Like what you see? Visit the ' +\n",
              "            '<a target=\"_blank\" href=https://colab.research.google.com/notebooks/data_table.ipynb>data table notebook</a>'\n",
              "            + ' to learn more about interactive tables.';\n",
              "          element.innerHTML = '';\n",
              "          dataTable['output_type'] = 'display_data';\n",
              "          await google.colab.output.renderOutput(dataTable, element);\n",
              "          const docLink = document.createElement('div');\n",
              "          docLink.innerHTML = docLinkHtml;\n",
              "          element.appendChild(docLink);\n",
              "        }\n",
              "      </script>\n",
              "    </div>\n",
              "  </div>\n",
              "  "
            ]
          },
          "metadata": {},
          "execution_count": 4
        }
      ]
    },
    {
      "cell_type": "code",
      "source": [
        "name = ['label']\n",
        "labels = breast_cancer.target\n",
        "print(labels)"
      ],
      "metadata": {
        "id": "KQIxFJU1uOGF",
        "colab": {
          "base_uri": "https://localhost:8080/"
        },
        "outputId": "9cdf4e1c-ca07-41c2-975f-cc2b6d9f1f7f"
      },
      "execution_count": null,
      "outputs": [
        {
          "output_type": "stream",
          "name": "stdout",
          "text": [
            "[0 0 0 0 0 0 0 0 0 0 0 0 0 0 0 0 0 0 0 1 1 1 0 0 0 0 0 0 0 0 0 0 0 0 0 0 0\n",
            " 1 0 0 0 0 0 0 0 0 1 0 1 1 1 1 1 0 0 1 0 0 1 1 1 1 0 1 0 0 1 1 1 1 0 1 0 0\n",
            " 1 0 1 0 0 1 1 1 0 0 1 0 0 0 1 1 1 0 1 1 0 0 1 1 1 0 0 1 1 1 1 0 1 1 0 1 1\n",
            " 1 1 1 1 1 1 0 0 0 1 0 0 1 1 1 0 0 1 0 1 0 0 1 0 0 1 1 0 1 1 0 1 1 1 1 0 1\n",
            " 1 1 1 1 1 1 1 1 0 1 1 1 1 0 0 1 0 1 1 0 0 1 1 0 0 1 1 1 1 0 1 1 0 0 0 1 0\n",
            " 1 0 1 1 1 0 1 1 0 0 1 0 0 0 0 1 0 0 0 1 0 1 0 1 1 0 1 0 0 0 0 1 1 0 0 1 1\n",
            " 1 0 1 1 1 1 1 0 0 1 1 0 1 1 0 0 1 0 1 1 1 1 0 1 1 1 1 1 0 1 0 0 0 0 0 0 0\n",
            " 0 0 0 0 0 0 0 1 1 1 1 1 1 0 1 0 1 1 0 1 1 0 1 0 0 1 1 1 1 1 1 1 1 1 1 1 1\n",
            " 1 0 1 1 0 1 0 1 1 1 1 1 1 1 1 1 1 1 1 1 1 0 1 1 1 0 1 0 1 1 1 1 0 0 0 1 1\n",
            " 1 1 0 1 0 1 0 1 1 1 0 1 1 1 1 1 1 1 0 0 0 1 1 1 1 1 1 1 1 1 1 1 0 0 1 0 0\n",
            " 0 1 0 0 1 1 1 1 1 0 1 1 1 1 1 0 1 1 1 0 1 1 0 0 1 1 1 1 1 1 0 1 1 1 1 1 1\n",
            " 1 0 1 1 1 1 1 0 1 1 0 1 1 1 1 1 1 1 1 1 1 1 1 0 1 0 0 1 0 1 1 1 1 1 0 1 1\n",
            " 0 1 0 1 1 0 1 0 1 1 1 1 1 1 1 1 0 0 1 1 1 1 1 1 0 1 1 1 1 1 1 1 1 1 1 0 1\n",
            " 1 1 1 1 1 1 0 1 0 1 1 0 1 1 1 1 1 0 0 1 0 1 0 1 1 1 1 1 0 1 1 0 1 0 1 0 0\n",
            " 1 1 1 0 1 1 1 1 1 1 1 1 1 1 1 0 1 0 0 1 1 1 1 1 1 1 1 1 1 1 1 1 1 1 1 1 1\n",
            " 1 1 1 1 1 1 1 0 0 0 0 0 0 1]\n"
          ]
        }
      ]
    },
    {
      "cell_type": "markdown",
      "source": [
        "# Task 1: K-means (25 points)"
      ],
      "metadata": {
        "id": "SHzMc7csxMAU"
      }
    },
    {
      "cell_type": "markdown",
      "source": [
        "If you run successfully the Setup and Data Preprocessing stages, you are now ready to cluster the data with the [K-means](https://scikit-learn.org/stable/modules/generated/sklearn.cluster.KMeans.html) algorithm included sklearn.\n",
        "Set the ```k``` parameter to **2**, fit the model, and the compute the [Silhouette score](https://en.wikipedia.org/wiki/Silhouette_(clustering)) (i.e., a measure of quality of the obtained clustering).  \n",
        "\n",
        "**IMPORTANT:** use sklearn implementation of the Silhouette score (via ```sklearn.metrics```)."
      ],
      "metadata": {
        "id": "9quCpQFzxmvd"
      }
    },
    {
      "cell_type": "code",
      "source": [
        "#YOUR CODE HERE\n",
        "k_means = KMeans(n_clusters = 2)\n",
        "k_means.fit(features)\n",
        "y_kmeans = k_means.predict(features)\n",
        "print(y_kmeans,'\\n')\n",
        "print(f'Silhouette Score(n=2): {silhouette_score(features,y_kmeans )}')"
      ],
      "metadata": {
        "id": "mQV_MPXXvf0K",
        "colab": {
          "base_uri": "https://localhost:8080/"
        },
        "outputId": "35bba6e6-26f7-42db-de98-34fae5aa61fb"
      },
      "execution_count": null,
      "outputs": [
        {
          "output_type": "stream",
          "name": "stdout",
          "text": [
            "[1 1 1 0 1 0 1 0 0 0 0 1 1 0 0 0 0 1 1 0 0 0 0 1 1 1 0 1 1 1 1 0 1 1 1 1 0\n",
            " 0 0 0 0 0 1 0 0 1 0 0 0 0 0 0 0 1 0 0 1 0 0 0 0 0 0 0 0 0 0 0 0 0 1 0 1 0\n",
            " 0 1 0 1 1 0 0 0 1 1 0 1 0 1 0 0 0 0 0 0 0 1 0 0 0 0 0 0 0 0 0 0 0 0 1 0 0\n",
            " 0 0 0 0 0 0 0 1 1 0 1 1 0 0 0 0 1 0 1 0 0 0 0 1 0 0 0 0 0 0 1 0 0 0 0 0 0\n",
            " 0 0 0 0 0 0 0 0 1 0 0 0 0 1 1 0 1 0 0 1 1 0 0 0 0 0 0 0 0 0 0 0 1 1 1 0 0\n",
            " 0 1 0 0 0 0 0 0 0 0 0 0 1 1 0 0 1 1 0 0 0 0 1 0 0 1 0 1 0 0 0 0 0 1 1 0 0\n",
            " 0 0 0 0 0 0 0 0 1 0 0 1 0 0 1 1 0 1 0 0 0 0 1 0 0 0 0 0 1 0 1 1 1 0 1 0 1\n",
            " 0 1 1 1 0 1 1 0 0 0 0 0 0 1 0 1 0 0 1 0 0 1 0 1 0 0 0 0 0 0 0 0 0 0 0 0 0\n",
            " 0 0 0 0 1 0 1 0 0 0 0 0 0 0 0 0 0 0 0 0 0 1 0 0 0 1 0 1 0 0 0 0 0 0 0 0 0\n",
            " 0 0 1 0 1 0 1 0 0 0 1 0 0 0 0 0 0 0 0 1 0 0 0 0 0 0 0 0 0 0 0 0 1 1 0 1 1\n",
            " 0 0 1 1 0 0 0 0 0 0 0 0 0 0 0 0 0 0 0 1 0 0 1 1 0 0 0 0 0 0 1 0 0 0 0 0 0\n",
            " 0 1 0 0 0 0 0 0 0 0 1 0 0 0 0 0 0 0 0 0 0 0 0 0 0 1 1 0 0 0 0 0 0 0 1 0 0\n",
            " 1 0 1 0 0 1 0 1 0 0 0 0 0 0 0 0 1 1 0 0 0 0 0 0 1 0 0 0 0 0 0 0 0 0 0 0 0\n",
            " 0 0 0 0 0 0 1 0 0 0 1 1 0 0 0 0 0 1 1 0 0 0 1 0 0 0 0 0 0 0 0 0 0 0 0 1 1\n",
            " 0 0 0 1 0 0 0 0 0 0 0 0 0 0 0 1 0 1 0 0 0 0 0 0 0 0 0 0 0 0 0 0 0 0 0 0 0\n",
            " 0 0 0 0 0 0 0 0 1 1 1 0 1 0] \n",
            "\n",
            "Silhouette Score(n=2): 0.6972646156059464\n"
          ]
        }
      ]
    },
    {
      "cell_type": "markdown",
      "source": [
        "Take the predictions produced by K-means, and compare them with the ```labels``` variable (i.e., the ground truth from our dataset).  \n",
        "\n",
        "For each cluster, compute how many data points in the dataset have been positive cases and negative cases. Based on this, use your judgement to determine which cluster should be assigned which label, and how many points have been labeled correctly.\n",
        "\n",
        "**IMPORTANT**: K-means is a clustering algorithm, so it will not output a label for each data point, but just a cluster identifier!  As such, label ```0``` does not necessarily match the cluster identifier ```0```.\n"
      ],
      "metadata": {
        "id": "9dkLrj2PzWw8"
      }
    },
    {
      "cell_type": "code",
      "source": [
        "#YOUR CODE HERE\n",
        "\n",
        "# 0 indicates Negative\n",
        "# 1 indicates Positive\n",
        "\n",
        "compare = {'labels':labels,'Kmeans_Cluster':y_kmeans}\n",
        "compare_df = pd.DataFrame(compare)\n",
        "compare_df\n",
        "count_P0 = 0\n",
        "count_P1 = 0\n",
        "count_N0 = 0\n",
        "count_N1 = 0\n",
        "\n",
        "#check =[]\n",
        "for i in range(len(compare_df)):\n",
        "  if compare_df['labels'][i] == 1:\n",
        "    compare_df.at[i , 'P/N'] = 'Positive'\n",
        "  else:\n",
        "    compare_df.at[i , 'P/N'] = 'Negative'\n",
        "  \n",
        "  if compare_df['Kmeans_Cluster'][i] == 0 and compare_df['P/N'][i] == \"Positive\":\n",
        "    count_P0 += 1\n",
        "  elif compare_df['Kmeans_Cluster'][i] == 0 and compare_df['P/N'][i] == \"Negative\":\n",
        "    count_N0 += 1\n",
        "  elif compare_df['Kmeans_Cluster'][i] == 1 and compare_df['P/N'][i] == \"Positive\":\n",
        "    count_P1 += 1\n",
        "  elif compare_df['Kmeans_Cluster'][i] == 1 and compare_df['P/N'][i] == \"Negative\":\n",
        "    count_N1 += 1\n",
        "\n",
        "print(compare_df)\n",
        "print(\"Cluster = 0 and Label = Positive:- \",count_P0)\n",
        "print(\"Cluster = 0 and Label = Negative:- \",count_N0)\n",
        "print(\"Cluster = 1 and Label = Positive:- \",count_P1)\n",
        "print(\"Cluster = 1 and Label = Negative:- \",count_N1)"
      ],
      "metadata": {
        "id": "a0Yk38rE5Hl3",
        "colab": {
          "base_uri": "https://localhost:8080/"
        },
        "outputId": "06ef5208-3bc7-4ebb-c6ac-1f1c5bb94043"
      },
      "execution_count": null,
      "outputs": [
        {
          "output_type": "stream",
          "name": "stdout",
          "text": [
            "     labels  Kmeans_Cluster       P/N\n",
            "0         0               1  Negative\n",
            "1         0               1  Negative\n",
            "2         0               1  Negative\n",
            "3         0               0  Negative\n",
            "4         0               1  Negative\n",
            "..      ...             ...       ...\n",
            "564       0               1  Negative\n",
            "565       0               1  Negative\n",
            "566       0               0  Negative\n",
            "567       0               1  Negative\n",
            "568       1               0  Positive\n",
            "\n",
            "[569 rows x 3 columns]\n",
            "Cluster = 0 and Label = Positive:-  356\n",
            "Cluster = 0 and Label = Negative:-  82\n",
            "Cluster = 1 and Label = Positive:-  1\n",
            "Cluster = 1 and Label = Negative:-  130\n"
          ]
        }
      ]
    },
    {
      "cell_type": "markdown",
      "source": [
        "Here it can be observed that Cluster 1 has 1 positive label and 130 negative labels. Hence, Cluster 1 will be renamed as Negative. Similarly, Cluster 0 has 356 positive labels and 82 negative labels. Hence, Cluster 0 will be renamed as Positive.\n",
        "\n",
        "Also, answering the question as to how many points have been labelled correctly according to their clusters, we can say that 83 points (label=0 & Cluster = 0 are 82 and label=1 & Cluster = 1 is 1) have been labeled correctly."
      ],
      "metadata": {
        "id": "OwnoaPMiLf8l"
      }
    },
    {
      "cell_type": "code",
      "source": [
        "\n",
        "for i in range(len(compare_df)):\n",
        "  if compare_df['Kmeans_Cluster'][i] == 1:\n",
        "    compare_df.at[i , 'Kmeans_Cluster_P/N'] = 'Positive'\n",
        "  else:\n",
        "    compare_df.at[i , 'Kmeans_Cluster_P/N'] = 'Negative'\n",
        "\n",
        "compare_df.head(30)"
      ],
      "metadata": {
        "id": "SYezial5MXe0",
        "colab": {
          "base_uri": "https://localhost:8080/",
          "height": 990
        },
        "outputId": "6d360003-c53b-4b4b-cca8-0134fb733ebb"
      },
      "execution_count": null,
      "outputs": [
        {
          "output_type": "execute_result",
          "data": {
            "text/plain": [
              "    labels  Kmeans_Cluster       P/N Kmeans_Cluster_P/N\n",
              "0        0               1  Negative           Positive\n",
              "1        0               1  Negative           Positive\n",
              "2        0               1  Negative           Positive\n",
              "3        0               0  Negative           Negative\n",
              "4        0               1  Negative           Positive\n",
              "5        0               0  Negative           Negative\n",
              "6        0               1  Negative           Positive\n",
              "7        0               0  Negative           Negative\n",
              "8        0               0  Negative           Negative\n",
              "9        0               0  Negative           Negative\n",
              "10       0               0  Negative           Negative\n",
              "11       0               1  Negative           Positive\n",
              "12       0               1  Negative           Positive\n",
              "13       0               0  Negative           Negative\n",
              "14       0               0  Negative           Negative\n",
              "15       0               0  Negative           Negative\n",
              "16       0               0  Negative           Negative\n",
              "17       0               1  Negative           Positive\n",
              "18       0               1  Negative           Positive\n",
              "19       1               0  Positive           Negative\n",
              "20       1               0  Positive           Negative\n",
              "21       1               0  Positive           Negative\n",
              "22       0               0  Negative           Negative\n",
              "23       0               1  Negative           Positive\n",
              "24       0               1  Negative           Positive\n",
              "25       0               1  Negative           Positive\n",
              "26       0               0  Negative           Negative\n",
              "27       0               1  Negative           Positive\n",
              "28       0               1  Negative           Positive\n",
              "29       0               1  Negative           Positive"
            ],
            "text/html": [
              "\n",
              "  <div id=\"df-2462eb69-4474-4be4-8099-4ec30ebdc257\">\n",
              "    <div class=\"colab-df-container\">\n",
              "      <div>\n",
              "<style scoped>\n",
              "    .dataframe tbody tr th:only-of-type {\n",
              "        vertical-align: middle;\n",
              "    }\n",
              "\n",
              "    .dataframe tbody tr th {\n",
              "        vertical-align: top;\n",
              "    }\n",
              "\n",
              "    .dataframe thead th {\n",
              "        text-align: right;\n",
              "    }\n",
              "</style>\n",
              "<table border=\"1\" class=\"dataframe\">\n",
              "  <thead>\n",
              "    <tr style=\"text-align: right;\">\n",
              "      <th></th>\n",
              "      <th>labels</th>\n",
              "      <th>Kmeans_Cluster</th>\n",
              "      <th>P/N</th>\n",
              "      <th>Kmeans_Cluster_P/N</th>\n",
              "    </tr>\n",
              "  </thead>\n",
              "  <tbody>\n",
              "    <tr>\n",
              "      <th>0</th>\n",
              "      <td>0</td>\n",
              "      <td>1</td>\n",
              "      <td>Negative</td>\n",
              "      <td>Positive</td>\n",
              "    </tr>\n",
              "    <tr>\n",
              "      <th>1</th>\n",
              "      <td>0</td>\n",
              "      <td>1</td>\n",
              "      <td>Negative</td>\n",
              "      <td>Positive</td>\n",
              "    </tr>\n",
              "    <tr>\n",
              "      <th>2</th>\n",
              "      <td>0</td>\n",
              "      <td>1</td>\n",
              "      <td>Negative</td>\n",
              "      <td>Positive</td>\n",
              "    </tr>\n",
              "    <tr>\n",
              "      <th>3</th>\n",
              "      <td>0</td>\n",
              "      <td>0</td>\n",
              "      <td>Negative</td>\n",
              "      <td>Negative</td>\n",
              "    </tr>\n",
              "    <tr>\n",
              "      <th>4</th>\n",
              "      <td>0</td>\n",
              "      <td>1</td>\n",
              "      <td>Negative</td>\n",
              "      <td>Positive</td>\n",
              "    </tr>\n",
              "    <tr>\n",
              "      <th>5</th>\n",
              "      <td>0</td>\n",
              "      <td>0</td>\n",
              "      <td>Negative</td>\n",
              "      <td>Negative</td>\n",
              "    </tr>\n",
              "    <tr>\n",
              "      <th>6</th>\n",
              "      <td>0</td>\n",
              "      <td>1</td>\n",
              "      <td>Negative</td>\n",
              "      <td>Positive</td>\n",
              "    </tr>\n",
              "    <tr>\n",
              "      <th>7</th>\n",
              "      <td>0</td>\n",
              "      <td>0</td>\n",
              "      <td>Negative</td>\n",
              "      <td>Negative</td>\n",
              "    </tr>\n",
              "    <tr>\n",
              "      <th>8</th>\n",
              "      <td>0</td>\n",
              "      <td>0</td>\n",
              "      <td>Negative</td>\n",
              "      <td>Negative</td>\n",
              "    </tr>\n",
              "    <tr>\n",
              "      <th>9</th>\n",
              "      <td>0</td>\n",
              "      <td>0</td>\n",
              "      <td>Negative</td>\n",
              "      <td>Negative</td>\n",
              "    </tr>\n",
              "    <tr>\n",
              "      <th>10</th>\n",
              "      <td>0</td>\n",
              "      <td>0</td>\n",
              "      <td>Negative</td>\n",
              "      <td>Negative</td>\n",
              "    </tr>\n",
              "    <tr>\n",
              "      <th>11</th>\n",
              "      <td>0</td>\n",
              "      <td>1</td>\n",
              "      <td>Negative</td>\n",
              "      <td>Positive</td>\n",
              "    </tr>\n",
              "    <tr>\n",
              "      <th>12</th>\n",
              "      <td>0</td>\n",
              "      <td>1</td>\n",
              "      <td>Negative</td>\n",
              "      <td>Positive</td>\n",
              "    </tr>\n",
              "    <tr>\n",
              "      <th>13</th>\n",
              "      <td>0</td>\n",
              "      <td>0</td>\n",
              "      <td>Negative</td>\n",
              "      <td>Negative</td>\n",
              "    </tr>\n",
              "    <tr>\n",
              "      <th>14</th>\n",
              "      <td>0</td>\n",
              "      <td>0</td>\n",
              "      <td>Negative</td>\n",
              "      <td>Negative</td>\n",
              "    </tr>\n",
              "    <tr>\n",
              "      <th>15</th>\n",
              "      <td>0</td>\n",
              "      <td>0</td>\n",
              "      <td>Negative</td>\n",
              "      <td>Negative</td>\n",
              "    </tr>\n",
              "    <tr>\n",
              "      <th>16</th>\n",
              "      <td>0</td>\n",
              "      <td>0</td>\n",
              "      <td>Negative</td>\n",
              "      <td>Negative</td>\n",
              "    </tr>\n",
              "    <tr>\n",
              "      <th>17</th>\n",
              "      <td>0</td>\n",
              "      <td>1</td>\n",
              "      <td>Negative</td>\n",
              "      <td>Positive</td>\n",
              "    </tr>\n",
              "    <tr>\n",
              "      <th>18</th>\n",
              "      <td>0</td>\n",
              "      <td>1</td>\n",
              "      <td>Negative</td>\n",
              "      <td>Positive</td>\n",
              "    </tr>\n",
              "    <tr>\n",
              "      <th>19</th>\n",
              "      <td>1</td>\n",
              "      <td>0</td>\n",
              "      <td>Positive</td>\n",
              "      <td>Negative</td>\n",
              "    </tr>\n",
              "    <tr>\n",
              "      <th>20</th>\n",
              "      <td>1</td>\n",
              "      <td>0</td>\n",
              "      <td>Positive</td>\n",
              "      <td>Negative</td>\n",
              "    </tr>\n",
              "    <tr>\n",
              "      <th>21</th>\n",
              "      <td>1</td>\n",
              "      <td>0</td>\n",
              "      <td>Positive</td>\n",
              "      <td>Negative</td>\n",
              "    </tr>\n",
              "    <tr>\n",
              "      <th>22</th>\n",
              "      <td>0</td>\n",
              "      <td>0</td>\n",
              "      <td>Negative</td>\n",
              "      <td>Negative</td>\n",
              "    </tr>\n",
              "    <tr>\n",
              "      <th>23</th>\n",
              "      <td>0</td>\n",
              "      <td>1</td>\n",
              "      <td>Negative</td>\n",
              "      <td>Positive</td>\n",
              "    </tr>\n",
              "    <tr>\n",
              "      <th>24</th>\n",
              "      <td>0</td>\n",
              "      <td>1</td>\n",
              "      <td>Negative</td>\n",
              "      <td>Positive</td>\n",
              "    </tr>\n",
              "    <tr>\n",
              "      <th>25</th>\n",
              "      <td>0</td>\n",
              "      <td>1</td>\n",
              "      <td>Negative</td>\n",
              "      <td>Positive</td>\n",
              "    </tr>\n",
              "    <tr>\n",
              "      <th>26</th>\n",
              "      <td>0</td>\n",
              "      <td>0</td>\n",
              "      <td>Negative</td>\n",
              "      <td>Negative</td>\n",
              "    </tr>\n",
              "    <tr>\n",
              "      <th>27</th>\n",
              "      <td>0</td>\n",
              "      <td>1</td>\n",
              "      <td>Negative</td>\n",
              "      <td>Positive</td>\n",
              "    </tr>\n",
              "    <tr>\n",
              "      <th>28</th>\n",
              "      <td>0</td>\n",
              "      <td>1</td>\n",
              "      <td>Negative</td>\n",
              "      <td>Positive</td>\n",
              "    </tr>\n",
              "    <tr>\n",
              "      <th>29</th>\n",
              "      <td>0</td>\n",
              "      <td>1</td>\n",
              "      <td>Negative</td>\n",
              "      <td>Positive</td>\n",
              "    </tr>\n",
              "  </tbody>\n",
              "</table>\n",
              "</div>\n",
              "      <button class=\"colab-df-convert\" onclick=\"convertToInteractive('df-2462eb69-4474-4be4-8099-4ec30ebdc257')\"\n",
              "              title=\"Convert this dataframe to an interactive table.\"\n",
              "              style=\"display:none;\">\n",
              "        \n",
              "  <svg xmlns=\"http://www.w3.org/2000/svg\" height=\"24px\"viewBox=\"0 0 24 24\"\n",
              "       width=\"24px\">\n",
              "    <path d=\"M0 0h24v24H0V0z\" fill=\"none\"/>\n",
              "    <path d=\"M18.56 5.44l.94 2.06.94-2.06 2.06-.94-2.06-.94-.94-2.06-.94 2.06-2.06.94zm-11 1L8.5 8.5l.94-2.06 2.06-.94-2.06-.94L8.5 2.5l-.94 2.06-2.06.94zm10 10l.94 2.06.94-2.06 2.06-.94-2.06-.94-.94-2.06-.94 2.06-2.06.94z\"/><path d=\"M17.41 7.96l-1.37-1.37c-.4-.4-.92-.59-1.43-.59-.52 0-1.04.2-1.43.59L10.3 9.45l-7.72 7.72c-.78.78-.78 2.05 0 2.83L4 21.41c.39.39.9.59 1.41.59.51 0 1.02-.2 1.41-.59l7.78-7.78 2.81-2.81c.8-.78.8-2.07 0-2.86zM5.41 20L4 18.59l7.72-7.72 1.47 1.35L5.41 20z\"/>\n",
              "  </svg>\n",
              "      </button>\n",
              "      \n",
              "  <style>\n",
              "    .colab-df-container {\n",
              "      display:flex;\n",
              "      flex-wrap:wrap;\n",
              "      gap: 12px;\n",
              "    }\n",
              "\n",
              "    .colab-df-convert {\n",
              "      background-color: #E8F0FE;\n",
              "      border: none;\n",
              "      border-radius: 50%;\n",
              "      cursor: pointer;\n",
              "      display: none;\n",
              "      fill: #1967D2;\n",
              "      height: 32px;\n",
              "      padding: 0 0 0 0;\n",
              "      width: 32px;\n",
              "    }\n",
              "\n",
              "    .colab-df-convert:hover {\n",
              "      background-color: #E2EBFA;\n",
              "      box-shadow: 0px 1px 2px rgba(60, 64, 67, 0.3), 0px 1px 3px 1px rgba(60, 64, 67, 0.15);\n",
              "      fill: #174EA6;\n",
              "    }\n",
              "\n",
              "    [theme=dark] .colab-df-convert {\n",
              "      background-color: #3B4455;\n",
              "      fill: #D2E3FC;\n",
              "    }\n",
              "\n",
              "    [theme=dark] .colab-df-convert:hover {\n",
              "      background-color: #434B5C;\n",
              "      box-shadow: 0px 1px 3px 1px rgba(0, 0, 0, 0.15);\n",
              "      filter: drop-shadow(0px 1px 2px rgba(0, 0, 0, 0.3));\n",
              "      fill: #FFFFFF;\n",
              "    }\n",
              "  </style>\n",
              "\n",
              "      <script>\n",
              "        const buttonEl =\n",
              "          document.querySelector('#df-2462eb69-4474-4be4-8099-4ec30ebdc257 button.colab-df-convert');\n",
              "        buttonEl.style.display =\n",
              "          google.colab.kernel.accessAllowed ? 'block' : 'none';\n",
              "\n",
              "        async function convertToInteractive(key) {\n",
              "          const element = document.querySelector('#df-2462eb69-4474-4be4-8099-4ec30ebdc257');\n",
              "          const dataTable =\n",
              "            await google.colab.kernel.invokeFunction('convertToInteractive',\n",
              "                                                     [key], {});\n",
              "          if (!dataTable) return;\n",
              "\n",
              "          const docLinkHtml = 'Like what you see? Visit the ' +\n",
              "            '<a target=\"_blank\" href=https://colab.research.google.com/notebooks/data_table.ipynb>data table notebook</a>'\n",
              "            + ' to learn more about interactive tables.';\n",
              "          element.innerHTML = '';\n",
              "          dataTable['output_type'] = 'display_data';\n",
              "          await google.colab.output.renderOutput(dataTable, element);\n",
              "          const docLink = document.createElement('div');\n",
              "          docLink.innerHTML = docLinkHtml;\n",
              "          element.appendChild(docLink);\n",
              "        }\n",
              "      </script>\n",
              "    </div>\n",
              "  </div>\n",
              "  "
            ]
          },
          "metadata": {},
          "execution_count": 8
        }
      ]
    },
    {
      "cell_type": "markdown",
      "source": [
        "# Task 2: PCA (10 points)"
      ],
      "metadata": {
        "id": "AOfXCfy7lm6i"
      }
    },
    {
      "cell_type": "markdown",
      "source": [
        "Now perform dimensionality reduction on the ```features``` using the [PCA](https://scikit-learn.org/stable/modules/generated/sklearn.decomposition.PCA.html) statistical procedure, available in sklearn.\n",
        "\n",
        "Set the ```n``` parameter to **2**, effectively reducing the dataset size of a **15X** factor: from 30 features to just 2."
      ],
      "metadata": {
        "id": "QHspoL59lzHM"
      }
    },
    {
      "cell_type": "code",
      "source": [
        "# YOUR CODE HERE"
      ],
      "metadata": {
        "id": "V1pyebsw0slr"
      },
      "execution_count": null,
      "outputs": []
    },
    {
      "cell_type": "code",
      "source": [
        "from sklearn.decomposition import PCA\n",
        "pca = PCA(n_components=2)\n",
        "principalComponents = pca.fit_transform(features)\n",
        "principalDf = pd.DataFrame(data = principalComponents, columns = ['pc1', 'pc2'])\n",
        "principalDf"
      ],
      "metadata": {
        "colab": {
          "base_uri": "https://localhost:8080/",
          "height": 423
        },
        "id": "dnfZ1uIyxSsd",
        "outputId": "009c5d9f-0787-452f-8340-a9c90a18e566"
      },
      "execution_count": null,
      "outputs": [
        {
          "output_type": "execute_result",
          "data": {
            "text/plain": [
              "             pc1         pc2\n",
              "0    1160.142574 -293.917544\n",
              "1    1269.122443   15.630182\n",
              "2     995.793889   39.156743\n",
              "3    -407.180803  -67.380320\n",
              "4     930.341180  189.340742\n",
              "..           ...         ...\n",
              "564  1414.126684  110.222492\n",
              "565  1045.018854   77.057589\n",
              "566   314.501756   47.553525\n",
              "567  1124.858115   34.129225\n",
              "568  -771.527622  -88.643106\n",
              "\n",
              "[569 rows x 2 columns]"
            ],
            "text/html": [
              "\n",
              "  <div id=\"df-8c0c0d8b-4604-4e78-991a-f505716e3997\">\n",
              "    <div class=\"colab-df-container\">\n",
              "      <div>\n",
              "<style scoped>\n",
              "    .dataframe tbody tr th:only-of-type {\n",
              "        vertical-align: middle;\n",
              "    }\n",
              "\n",
              "    .dataframe tbody tr th {\n",
              "        vertical-align: top;\n",
              "    }\n",
              "\n",
              "    .dataframe thead th {\n",
              "        text-align: right;\n",
              "    }\n",
              "</style>\n",
              "<table border=\"1\" class=\"dataframe\">\n",
              "  <thead>\n",
              "    <tr style=\"text-align: right;\">\n",
              "      <th></th>\n",
              "      <th>pc1</th>\n",
              "      <th>pc2</th>\n",
              "    </tr>\n",
              "  </thead>\n",
              "  <tbody>\n",
              "    <tr>\n",
              "      <th>0</th>\n",
              "      <td>1160.142574</td>\n",
              "      <td>-293.917544</td>\n",
              "    </tr>\n",
              "    <tr>\n",
              "      <th>1</th>\n",
              "      <td>1269.122443</td>\n",
              "      <td>15.630182</td>\n",
              "    </tr>\n",
              "    <tr>\n",
              "      <th>2</th>\n",
              "      <td>995.793889</td>\n",
              "      <td>39.156743</td>\n",
              "    </tr>\n",
              "    <tr>\n",
              "      <th>3</th>\n",
              "      <td>-407.180803</td>\n",
              "      <td>-67.380320</td>\n",
              "    </tr>\n",
              "    <tr>\n",
              "      <th>4</th>\n",
              "      <td>930.341180</td>\n",
              "      <td>189.340742</td>\n",
              "    </tr>\n",
              "    <tr>\n",
              "      <th>...</th>\n",
              "      <td>...</td>\n",
              "      <td>...</td>\n",
              "    </tr>\n",
              "    <tr>\n",
              "      <th>564</th>\n",
              "      <td>1414.126684</td>\n",
              "      <td>110.222492</td>\n",
              "    </tr>\n",
              "    <tr>\n",
              "      <th>565</th>\n",
              "      <td>1045.018854</td>\n",
              "      <td>77.057589</td>\n",
              "    </tr>\n",
              "    <tr>\n",
              "      <th>566</th>\n",
              "      <td>314.501756</td>\n",
              "      <td>47.553525</td>\n",
              "    </tr>\n",
              "    <tr>\n",
              "      <th>567</th>\n",
              "      <td>1124.858115</td>\n",
              "      <td>34.129225</td>\n",
              "    </tr>\n",
              "    <tr>\n",
              "      <th>568</th>\n",
              "      <td>-771.527622</td>\n",
              "      <td>-88.643106</td>\n",
              "    </tr>\n",
              "  </tbody>\n",
              "</table>\n",
              "<p>569 rows × 2 columns</p>\n",
              "</div>\n",
              "      <button class=\"colab-df-convert\" onclick=\"convertToInteractive('df-8c0c0d8b-4604-4e78-991a-f505716e3997')\"\n",
              "              title=\"Convert this dataframe to an interactive table.\"\n",
              "              style=\"display:none;\">\n",
              "        \n",
              "  <svg xmlns=\"http://www.w3.org/2000/svg\" height=\"24px\"viewBox=\"0 0 24 24\"\n",
              "       width=\"24px\">\n",
              "    <path d=\"M0 0h24v24H0V0z\" fill=\"none\"/>\n",
              "    <path d=\"M18.56 5.44l.94 2.06.94-2.06 2.06-.94-2.06-.94-.94-2.06-.94 2.06-2.06.94zm-11 1L8.5 8.5l.94-2.06 2.06-.94-2.06-.94L8.5 2.5l-.94 2.06-2.06.94zm10 10l.94 2.06.94-2.06 2.06-.94-2.06-.94-.94-2.06-.94 2.06-2.06.94z\"/><path d=\"M17.41 7.96l-1.37-1.37c-.4-.4-.92-.59-1.43-.59-.52 0-1.04.2-1.43.59L10.3 9.45l-7.72 7.72c-.78.78-.78 2.05 0 2.83L4 21.41c.39.39.9.59 1.41.59.51 0 1.02-.2 1.41-.59l7.78-7.78 2.81-2.81c.8-.78.8-2.07 0-2.86zM5.41 20L4 18.59l7.72-7.72 1.47 1.35L5.41 20z\"/>\n",
              "  </svg>\n",
              "      </button>\n",
              "      \n",
              "  <style>\n",
              "    .colab-df-container {\n",
              "      display:flex;\n",
              "      flex-wrap:wrap;\n",
              "      gap: 12px;\n",
              "    }\n",
              "\n",
              "    .colab-df-convert {\n",
              "      background-color: #E8F0FE;\n",
              "      border: none;\n",
              "      border-radius: 50%;\n",
              "      cursor: pointer;\n",
              "      display: none;\n",
              "      fill: #1967D2;\n",
              "      height: 32px;\n",
              "      padding: 0 0 0 0;\n",
              "      width: 32px;\n",
              "    }\n",
              "\n",
              "    .colab-df-convert:hover {\n",
              "      background-color: #E2EBFA;\n",
              "      box-shadow: 0px 1px 2px rgba(60, 64, 67, 0.3), 0px 1px 3px 1px rgba(60, 64, 67, 0.15);\n",
              "      fill: #174EA6;\n",
              "    }\n",
              "\n",
              "    [theme=dark] .colab-df-convert {\n",
              "      background-color: #3B4455;\n",
              "      fill: #D2E3FC;\n",
              "    }\n",
              "\n",
              "    [theme=dark] .colab-df-convert:hover {\n",
              "      background-color: #434B5C;\n",
              "      box-shadow: 0px 1px 3px 1px rgba(0, 0, 0, 0.15);\n",
              "      filter: drop-shadow(0px 1px 2px rgba(0, 0, 0, 0.3));\n",
              "      fill: #FFFFFF;\n",
              "    }\n",
              "  </style>\n",
              "\n",
              "      <script>\n",
              "        const buttonEl =\n",
              "          document.querySelector('#df-8c0c0d8b-4604-4e78-991a-f505716e3997 button.colab-df-convert');\n",
              "        buttonEl.style.display =\n",
              "          google.colab.kernel.accessAllowed ? 'block' : 'none';\n",
              "\n",
              "        async function convertToInteractive(key) {\n",
              "          const element = document.querySelector('#df-8c0c0d8b-4604-4e78-991a-f505716e3997');\n",
              "          const dataTable =\n",
              "            await google.colab.kernel.invokeFunction('convertToInteractive',\n",
              "                                                     [key], {});\n",
              "          if (!dataTable) return;\n",
              "\n",
              "          const docLinkHtml = 'Like what you see? Visit the ' +\n",
              "            '<a target=\"_blank\" href=https://colab.research.google.com/notebooks/data_table.ipynb>data table notebook</a>'\n",
              "            + ' to learn more about interactive tables.';\n",
              "          element.innerHTML = '';\n",
              "          dataTable['output_type'] = 'display_data';\n",
              "          await google.colab.output.renderOutput(dataTable, element);\n",
              "          const docLink = document.createElement('div');\n",
              "          docLink.innerHTML = docLinkHtml;\n",
              "          element.appendChild(docLink);\n",
              "        }\n",
              "      </script>\n",
              "    </div>\n",
              "  </div>\n",
              "  "
            ]
          },
          "metadata": {},
          "execution_count": 10
        }
      ]
    },
    {
      "cell_type": "markdown",
      "source": [
        "Now run K-means with the same parameters as above, but on the ```pcaFeatures``` produced by the PCA reduction you just executed and compute the Silhouette score."
      ],
      "metadata": {
        "id": "jlY4yQwioLpg"
      }
    },
    {
      "cell_type": "code",
      "source": [
        "# YOUR CODE HERE\n",
        "\n",
        "k_means = KMeans(n_clusters = 2)\n",
        "k_means.fit(principalDf)\n",
        "y_kmeans_pca = k_means.predict(principalDf)\n",
        "print(y_kmeans_pca,'\\n')\n",
        "print(f'Silhouette Score(n=2): {silhouette_score( principalDf,y_kmeans_pca )}')"
      ],
      "metadata": {
        "id": "_oi0grb2owYI",
        "colab": {
          "base_uri": "https://localhost:8080/"
        },
        "outputId": "87b28e94-7348-4aa2-bacd-45f8e58a56f8"
      },
      "execution_count": null,
      "outputs": [
        {
          "output_type": "stream",
          "name": "stdout",
          "text": [
            "[1 1 1 0 1 0 1 0 0 0 0 1 1 0 0 0 0 1 1 0 0 0 0 1 1 1 0 1 1 1 1 0 1 1 1 1 0\n",
            " 0 0 0 0 0 1 0 0 1 0 0 0 0 0 0 0 1 0 0 1 0 0 0 0 0 0 0 0 0 0 0 0 0 1 0 1 0\n",
            " 0 1 0 1 1 0 0 0 1 1 0 1 0 1 0 0 0 0 0 0 0 1 0 0 0 0 0 0 0 0 0 0 0 0 1 0 0\n",
            " 0 0 0 0 0 0 0 1 1 0 1 1 0 0 0 0 1 0 1 0 0 0 0 1 0 0 0 0 0 0 1 0 0 0 0 0 0\n",
            " 0 0 0 0 0 0 0 0 1 0 0 0 0 1 1 0 1 0 0 1 1 0 0 0 0 0 0 0 0 0 0 0 1 1 1 0 0\n",
            " 0 1 0 0 0 0 0 0 0 0 0 0 1 1 0 0 1 1 0 0 0 0 1 0 0 1 0 1 0 0 0 0 0 1 1 0 0\n",
            " 0 0 0 0 0 0 0 0 1 0 0 1 0 0 1 1 0 1 0 0 0 0 1 0 0 0 0 0 1 0 1 1 1 0 1 0 1\n",
            " 0 1 1 1 0 1 1 0 0 0 0 0 0 1 0 1 0 0 1 0 0 1 0 1 0 0 0 0 0 0 0 0 0 0 0 0 0\n",
            " 0 0 0 0 1 0 1 0 0 0 0 0 0 0 0 0 0 0 0 0 0 1 0 0 0 1 0 1 0 0 0 0 0 0 0 0 0\n",
            " 0 0 1 0 1 0 1 0 0 0 1 0 0 0 0 0 0 0 0 1 0 0 0 0 0 0 0 0 0 0 0 0 1 1 0 1 1\n",
            " 0 0 1 1 0 0 0 0 0 0 0 0 0 0 0 0 0 0 0 1 0 0 1 1 0 0 0 0 0 0 1 0 0 0 0 0 0\n",
            " 0 1 0 0 0 0 0 0 0 0 1 0 0 0 0 0 0 0 0 0 0 0 0 0 0 1 1 0 0 0 0 0 0 0 1 0 0\n",
            " 1 0 1 0 0 1 0 1 0 0 0 0 0 0 0 0 1 1 0 0 0 0 0 0 1 0 0 0 0 0 0 0 0 0 0 0 0\n",
            " 0 0 0 0 0 0 1 0 0 0 1 1 0 0 0 0 0 1 1 0 0 0 1 0 0 0 0 0 0 0 0 0 0 0 0 1 1\n",
            " 0 0 0 1 0 0 0 0 0 0 0 0 0 0 0 1 0 1 0 0 0 0 0 0 0 0 0 0 0 0 0 0 0 0 0 0 0\n",
            " 0 0 0 0 0 0 0 0 1 1 1 0 1 0] \n",
            "\n",
            "Silhouette Score(n=2): 0.6984195775999954\n"
          ]
        }
      ]
    },
    {
      "cell_type": "markdown",
      "source": [
        "Use the 2 features generated from your PCA to visualize the clusters. Since we have used PCA to bring down th number of features to 2, they can be visualized in a x-y scatter plot. Also plot the centroids generated from the k-means on the same plot.\n",
        "Make sure to give different colors to the two clusters based on their cluster labels generated by k-means.\n",
        "\n",
        "HINT: Read the documentation for the scatter() function."
      ],
      "metadata": {
        "id": "hJI_hfwQpcjT"
      }
    },
    {
      "cell_type": "code",
      "source": [
        "# YOUR CODE HERE\n",
        "sc = plt.scatter(principalDf['pc1'] ,principalDf['pc2'],c=y_kmeans_pca, s=50, cmap='viridis')\n",
        "plt.scatter(k_means.cluster_centers_[:, 0], k_means.cluster_centers_[:, 1], s=100,c='blue')     \n",
        "legend1 = plt.legend(*sc.legend_elements(),loc=\"upper right\", title=\"Clusters\")                   \n",
        "plt.show()"
      ],
      "metadata": {
        "id": "b-qpzTGfngUl",
        "colab": {
          "base_uri": "https://localhost:8080/",
          "height": 268
        },
        "outputId": "98ce2ecb-e06c-4e21-ddb4-c14c7d636ed5"
      },
      "execution_count": null,
      "outputs": [
        {
          "output_type": "display_data",
          "data": {
            "text/plain": [
              "<Figure size 432x288 with 1 Axes>"
            ],
            "image/png": "[encoded data removed]"
          },
          "metadata": {
            "needs_background": "light"
          }
        }
      ]
    },
    {
      "cell_type": "markdown",
      "source": [
        "# Task 3: SVD (10 points)"
      ],
      "metadata": {
        "id": "kNuIw8K7ryiS"
      }
    },
    {
      "cell_type": "markdown",
      "source": [
        "Perform all the tasks you did in Task 2, just instead of PCA, use sklearn to perform [SVD](https://scikit-learn.org/stable/modules/generated/sklearn.decomposition.TruncatedSVD.html), again with n = 2"
      ],
      "metadata": {
        "id": "jfDrEieGr6QB"
      }
    },
    {
      "cell_type": "code",
      "source": [
        "# YOUR CODE HERE\n",
        "from sklearn.decomposition import TruncatedSVD\n",
        "\n",
        "svd = TruncatedSVD(n_components=2, n_iter=7, random_state=42)\n",
        "svd_c = svd.fit_transform(features)\n",
        "print(svd.explained_variance_ratio_)\n",
        "print(svd.explained_variance_ratio_.sum())\n",
        "print(svd.singular_values_)\n",
        "SVDdf = pd.DataFrame(data = svd_c, columns = ['c1', 'c2'])\n",
        "SVDdf"
      ],
      "metadata": {
        "id": "dG25RFmJrETa",
        "colab": {
          "base_uri": "https://localhost:8080/",
          "height": 477
        },
        "outputId": "3c897efa-1d73-4077-d020-66f0f680c019"
      },
      "execution_count": null,
      "outputs": [
        {
          "output_type": "stream",
          "name": "stdout",
          "text": [
            "[0.97440781 0.02168862]\n",
            "0.9960964378139727\n",
            "[30786.44462784  2480.44578339]\n"
          ]
        },
        {
          "output_type": "execute_result",
          "data": {
            "text/plain": [
              "              c1          c2\n",
              "0    2241.974276  347.715560\n",
              "1    2372.408403   56.901670\n",
              "2    2101.840280   11.947627\n",
              "3     697.432105   -2.127700\n",
              "4    2047.087229 -137.765113\n",
              "..           ...         ...\n",
              "564  2522.499105  -17.637193\n",
              "565  2153.721279  -21.425876\n",
              "566  1424.532810  -55.021712\n",
              "567  2231.655793   19.994399\n",
              "568   331.693026   -5.297340\n",
              "\n",
              "[569 rows x 2 columns]"
            ],
            "text/html": [
              "\n",
              "  <div id=\"df-a364b633-68e2-44c3-bee0-08278be2f7ee\">\n",
              "    <div class=\"colab-df-container\">\n",
              "      <div>\n",
              "<style scoped>\n",
              "    .dataframe tbody tr th:only-of-type {\n",
              "        vertical-align: middle;\n",
              "    }\n",
              "\n",
              "    .dataframe tbody tr th {\n",
              "        vertical-align: top;\n",
              "    }\n",
              "\n",
              "    .dataframe thead th {\n",
              "        text-align: right;\n",
              "    }\n",
              "</style>\n",
              "<table border=\"1\" class=\"dataframe\">\n",
              "  <thead>\n",
              "    <tr style=\"text-align: right;\">\n",
              "      <th></th>\n",
              "      <th>c1</th>\n",
              "      <th>c2</th>\n",
              "    </tr>\n",
              "  </thead>\n",
              "  <tbody>\n",
              "    <tr>\n",
              "      <th>0</th>\n",
              "      <td>2241.974276</td>\n",
              "      <td>347.715560</td>\n",
              "    </tr>\n",
              "    <tr>\n",
              "      <th>1</th>\n",
              "      <td>2372.408403</td>\n",
              "      <td>56.901670</td>\n",
              "    </tr>\n",
              "    <tr>\n",
              "      <th>2</th>\n",
              "      <td>2101.840280</td>\n",
              "      <td>11.947627</td>\n",
              "    </tr>\n",
              "    <tr>\n",
              "      <th>3</th>\n",
              "      <td>697.432105</td>\n",
              "      <td>-2.127700</td>\n",
              "    </tr>\n",
              "    <tr>\n",
              "      <th>4</th>\n",
              "      <td>2047.087229</td>\n",
              "      <td>-137.765113</td>\n",
              "    </tr>\n",
              "    <tr>\n",
              "      <th>...</th>\n",
              "      <td>...</td>\n",
              "      <td>...</td>\n",
              "    </tr>\n",
              "    <tr>\n",
              "      <th>564</th>\n",
              "      <td>2522.499105</td>\n",
              "      <td>-17.637193</td>\n",
              "    </tr>\n",
              "    <tr>\n",
              "      <th>565</th>\n",
              "      <td>2153.721279</td>\n",
              "      <td>-21.425876</td>\n",
              "    </tr>\n",
              "    <tr>\n",
              "      <th>566</th>\n",
              "      <td>1424.532810</td>\n",
              "      <td>-55.021712</td>\n",
              "    </tr>\n",
              "    <tr>\n",
              "      <th>567</th>\n",
              "      <td>2231.655793</td>\n",
              "      <td>19.994399</td>\n",
              "    </tr>\n",
              "    <tr>\n",
              "      <th>568</th>\n",
              "      <td>331.693026</td>\n",
              "      <td>-5.297340</td>\n",
              "    </tr>\n",
              "  </tbody>\n",
              "</table>\n",
              "<p>569 rows × 2 columns</p>\n",
              "</div>\n",
              "      <button class=\"colab-df-convert\" onclick=\"convertToInteractive('df-a364b633-68e2-44c3-bee0-08278be2f7ee')\"\n",
              "              title=\"Convert this dataframe to an interactive table.\"\n",
              "              style=\"display:none;\">\n",
              "        \n",
              "  <svg xmlns=\"http://www.w3.org/2000/svg\" height=\"24px\"viewBox=\"0 0 24 24\"\n",
              "       width=\"24px\">\n",
              "    <path d=\"M0 0h24v24H0V0z\" fill=\"none\"/>\n",
              "    <path d=\"M18.56 5.44l.94 2.06.94-2.06 2.06-.94-2.06-.94-.94-2.06-.94 2.06-2.06.94zm-11 1L8.5 8.5l.94-2.06 2.06-.94-2.06-.94L8.5 2.5l-.94 2.06-2.06.94zm10 10l.94 2.06.94-2.06 2.06-.94-2.06-.94-.94-2.06-.94 2.06-2.06.94z\"/><path d=\"M17.41 7.96l-1.37-1.37c-.4-.4-.92-.59-1.43-.59-.52 0-1.04.2-1.43.59L10.3 9.45l-7.72 7.72c-.78.78-.78 2.05 0 2.83L4 21.41c.39.39.9.59 1.41.59.51 0 1.02-.2 1.41-.59l7.78-7.78 2.81-2.81c.8-.78.8-2.07 0-2.86zM5.41 20L4 18.59l7.72-7.72 1.47 1.35L5.41 20z\"/>\n",
              "  </svg>\n",
              "      </button>\n",
              "      \n",
              "  <style>\n",
              "    .colab-df-container {\n",
              "      display:flex;\n",
              "      flex-wrap:wrap;\n",
              "      gap: 12px;\n",
              "    }\n",
              "\n",
              "    .colab-df-convert {\n",
              "      background-color: #E8F0FE;\n",
              "      border: none;\n",
              "      border-radius: 50%;\n",
              "      cursor: pointer;\n",
              "      display: none;\n",
              "      fill: #1967D2;\n",
              "      height: 32px;\n",
              "      padding: 0 0 0 0;\n",
              "      width: 32px;\n",
              "    }\n",
              "\n",
              "    .colab-df-convert:hover {\n",
              "      background-color: #E2EBFA;\n",
              "      box-shadow: 0px 1px 2px rgba(60, 64, 67, 0.3), 0px 1px 3px 1px rgba(60, 64, 67, 0.15);\n",
              "      fill: #174EA6;\n",
              "    }\n",
              "\n",
              "    [theme=dark] .colab-df-convert {\n",
              "      background-color: #3B4455;\n",
              "      fill: #D2E3FC;\n",
              "    }\n",
              "\n",
              "    [theme=dark] .colab-df-convert:hover {\n",
              "      background-color: #434B5C;\n",
              "      box-shadow: 0px 1px 3px 1px rgba(0, 0, 0, 0.15);\n",
              "      filter: drop-shadow(0px 1px 2px rgba(0, 0, 0, 0.3));\n",
              "      fill: #FFFFFF;\n",
              "    }\n",
              "  </style>\n",
              "\n",
              "      <script>\n",
              "        const buttonEl =\n",
              "          document.querySelector('#df-a364b633-68e2-44c3-bee0-08278be2f7ee button.colab-df-convert');\n",
              "        buttonEl.style.display =\n",
              "          google.colab.kernel.accessAllowed ? 'block' : 'none';\n",
              "\n",
              "        async function convertToInteractive(key) {\n",
              "          const element = document.querySelector('#df-a364b633-68e2-44c3-bee0-08278be2f7ee');\n",
              "          const dataTable =\n",
              "            await google.colab.kernel.invokeFunction('convertToInteractive',\n",
              "                                                     [key], {});\n",
              "          if (!dataTable) return;\n",
              "\n",
              "          const docLinkHtml = 'Like what you see? Visit the ' +\n",
              "            '<a target=\"_blank\" href=https://colab.research.google.com/notebooks/data_table.ipynb>data table notebook</a>'\n",
              "            + ' to learn more about interactive tables.';\n",
              "          element.innerHTML = '';\n",
              "          dataTable['output_type'] = 'display_data';\n",
              "          await google.colab.output.renderOutput(dataTable, element);\n",
              "          const docLink = document.createElement('div');\n",
              "          docLink.innerHTML = docLinkHtml;\n",
              "          element.appendChild(docLink);\n",
              "        }\n",
              "      </script>\n",
              "    </div>\n",
              "  </div>\n",
              "  "
            ]
          },
          "metadata": {},
          "execution_count": 13
        }
      ]
    },
    {
      "cell_type": "code",
      "source": [
        "k_means = KMeans(n_clusters = 2)\n",
        "k_means.fit(SVDdf)\n",
        "y_kmeans_svd = k_means.predict(SVDdf)\n",
        "print(y_kmeans_svd,'\\n')\n",
        "print(f'Silhouette Score(n=2): {silhouette_score(SVDdf,y_kmeans_svd )}')"
      ],
      "metadata": {
        "colab": {
          "base_uri": "https://localhost:8080/"
        },
        "id": "nhhhGpta8yWz",
        "outputId": "02d91fee-b6ad-4a05-d8b7-0433f65c1298"
      },
      "execution_count": null,
      "outputs": [
        {
          "output_type": "stream",
          "name": "stdout",
          "text": [
            "[0 0 0 1 0 1 0 1 1 1 1 0 0 1 1 1 1 0 0 1 1 1 1 0 0 0 1 0 0 0 0 1 0 0 0 0 1\n",
            " 1 1 1 1 1 0 1 1 0 1 1 1 1 1 1 1 0 1 1 0 1 1 1 1 1 1 1 1 1 1 1 1 1 0 1 0 1\n",
            " 1 0 1 0 0 1 1 1 0 0 1 0 1 0 1 1 1 1 1 1 1 0 1 1 1 1 1 1 1 1 1 1 1 1 0 1 1\n",
            " 1 1 1 1 1 1 1 0 0 1 0 0 1 1 1 1 0 1 0 1 1 1 1 0 1 1 1 1 1 1 0 1 1 1 1 1 1\n",
            " 1 1 1 1 1 1 1 1 0 1 1 1 1 0 0 1 0 1 1 0 0 1 1 1 1 1 1 1 1 1 1 1 0 0 0 1 1\n",
            " 1 0 1 1 1 1 1 1 1 1 1 1 0 0 1 1 0 0 1 1 1 1 0 1 1 0 1 0 1 1 1 1 1 0 0 1 1\n",
            " 1 1 1 1 1 1 1 1 0 1 1 0 1 1 0 0 1 0 1 1 1 1 0 1 1 1 1 1 0 1 0 0 0 1 0 1 0\n",
            " 1 0 0 0 1 0 0 1 1 1 1 1 1 0 1 0 1 1 0 1 1 0 1 0 1 1 1 1 1 1 1 1 1 1 1 1 1\n",
            " 1 1 1 1 0 1 0 1 1 1 1 1 1 1 1 1 1 1 1 1 1 0 1 1 1 0 1 0 1 1 1 1 1 1 1 1 1\n",
            " 1 1 0 1 0 1 0 1 1 1 0 1 1 1 1 1 1 1 1 0 1 1 1 1 1 1 1 1 1 1 1 1 0 0 1 0 0\n",
            " 1 1 0 0 1 1 1 1 1 1 1 1 1 1 1 1 1 1 1 0 1 1 0 0 1 1 1 1 1 1 0 1 1 1 1 1 1\n",
            " 1 0 1 1 1 1 1 1 1 1 0 1 1 1 1 1 1 1 1 1 1 1 1 1 1 0 0 1 1 1 1 1 1 1 0 1 1\n",
            " 0 1 0 1 1 0 1 0 1 1 1 1 1 1 1 1 0 0 1 1 1 1 1 1 0 1 1 1 1 1 1 1 1 1 1 1 1\n",
            " 1 1 1 1 1 1 0 1 1 1 0 0 1 1 1 1 1 0 0 1 1 1 0 1 1 1 1 1 1 1 1 1 1 1 1 0 0\n",
            " 1 1 1 0 1 1 1 1 1 1 1 1 1 1 1 0 1 0 1 1 1 1 1 1 1 1 1 1 1 1 1 1 1 1 1 1 1\n",
            " 1 1 1 1 1 1 1 1 0 0 0 1 0 1] \n",
            "\n",
            "Silhouette Score(n=2): 0.6988822510646757\n"
          ]
        }
      ]
    },
    {
      "cell_type": "code",
      "source": [
        "sc = plt.scatter(SVDdf['c1'] ,SVDdf['c2'],c=y_kmeans_svd, s=50, cmap='viridis')\n",
        "plt.scatter(k_means.cluster_centers_[:, 0], k_means.cluster_centers_[:, 1], s=100,c='blue')     \n",
        "legend1 = plt.legend(*sc.legend_elements(),loc=\"upper right\", title=\"Clusters\")                   \n",
        "plt.show()"
      ],
      "metadata": {
        "colab": {
          "base_uri": "https://localhost:8080/",
          "height": 265
        },
        "id": "Gx63ExZD9CBz",
        "outputId": "e09b2204-d7cf-49fa-d85d-4207ad9f462b"
      },
      "execution_count": null,
      "outputs": [
        {
          "output_type": "display_data",
          "data": {
            "text/plain": [
              "<Figure size 432x288 with 1 Axes>"
            ],
            "image/png": "[encoded data removed]"
          },
          "metadata": {
            "needs_background": "light"
          }
        }
      ]
    },
    {
      "cell_type": "markdown",
      "source": [
        "If you have done all the 3 tasks correctly, you should notice that the silhouette score for all 3 methods is almost the same. This is because we have restricted the number of clusters to two. And while there are binary labels, this dataset has 30 features, and breast cancer cases depend on a variable range of data, and hence splitting them into more clusters helps us learn more about the similarities in each cluster. \n",
        "\n",
        "Your last take focuses on that!"
      ],
      "metadata": {
        "id": "v2OucMF6teK9"
      }
    },
    {
      "cell_type": "markdown",
      "source": [
        "# Task 4: Comparative Analysis to Determine Best value of K (25 points)"
      ],
      "metadata": {
        "id": "hZRF1hFSv61s"
      }
    },
    {
      "cell_type": "markdown",
      "source": [
        "For this entire section, use the original data before running any dimensionality reduction algorithms (features, labels).\n",
        "\n",
        "Run k-means for ```k=2,3,4,5```, calculate the silhouette score and plot the data with the help of ```SilhouetteVisualizer``` from [yellowbricks](https://www.scikit-yb.org/en/latest/index.html). Yellowbrick extends the Scikit-Learn API to make model selection and hyperparameter tuning easier. Under the hood, it’s using Matplotlib.\n",
        "\n",
        "**HINT:** Read up about how the Silhouette plot should look, SilhouetteVisualizer is a very particular plot, which makes understanding the score and clusters intuitive.\n",
        "\n",
        "The y-axis denotes the number of examples, and x-axis denotes the silhouette score for the various clusters with a line depiciting the average silhouette scores."
      ],
      "metadata": {
        "id": "o80N1G36wHyr"
      }
    },
    {
      "cell_type": "code",
      "source": [
        "from yellowbrick.cluster import SilhouetteVisualizer\n",
        "from yellowbrick.datasets import load_nfl\n",
        "from yellowbrick.cluster import KElbowVisualizer\n"
      ],
      "metadata": {
        "id": "188xREU7A-Vk"
      },
      "execution_count": null,
      "outputs": []
    },
    {
      "cell_type": "code",
      "source": [
        "# YOUR CODE HERE\n",
        "k = [2,3,4,5]\n",
        "SilhoutteScores = []\n",
        "for k in k:\n",
        "  k_means = KMeans(n_clusters = k)\n",
        "  k_means.fit(features)\n",
        "  y_kmeans = k_means.predict(features)\n",
        "  SilhoutteScore = silhouette_score(features,y_kmeans )\n",
        "  print(SilhoutteScore)\n",
        "  SilhoutteScores.append(SilhoutteScore)\n",
        "  visualizer = SilhouetteVisualizer(k_means, colors='yellowbrick')\n",
        "  visualizer.fit(features) \n",
        "  visualizer.show() "
      ],
      "metadata": {
        "id": "5eX9ePKmtISU",
        "colab": {
          "base_uri": "https://localhost:8080/",
          "height": 1000
        },
        "outputId": "e5aaeafb-f32d-41c0-c6b8-8cf9bf87a1af"
      },
      "execution_count": null,
      "outputs": [
        {
          "output_type": "stream",
          "name": "stdout",
          "text": [
            "0.6972646156059464\n"
          ]
        },
        {
          "output_type": "display_data",
          "data": {
            "text/plain": [
              "<Figure size 576x396 with 1 Axes>"
            ],
            "image/png": "[encoded data removed]"
          },
          "metadata": {}
        },
        {
          "output_type": "stream",
          "name": "stdout",
          "text": [
            "0.6695939093799408\n"
          ]
        },
        {
          "output_type": "display_data",
          "data": {
            "text/plain": [
              "<Figure size 576x396 with 1 Axes>"
            ],
            "image/png": "[encoded data removed]"
          },
          "metadata": {}
        },
        {
          "output_type": "stream",
          "name": "stdout",
          "text": [
            "0.5334614737117133\n"
          ]
        },
        {
          "output_type": "display_data",
          "data": {
            "text/plain": [
              "<Figure size 576x396 with 1 Axes>"
            ],
            "image/png": "[encoded data removed]"
          },
          "metadata": {}
        },
        {
          "output_type": "stream",
          "name": "stdout",
          "text": [
            "0.5102292997907838\n"
          ]
        },
        {
          "output_type": "display_data",
          "data": {
            "text/plain": [
              "<Figure size 576x396 with 1 Axes>"
            ],
            "image/png": "[encoded data removed]"
          },
          "metadata": {}
        }
      ]
    },
    {
      "cell_type": "code",
      "source": [
        "print(\"\\nSilhouetteScores:\",SilhoutteScores)\n",
        "print(\"Average Silhoutte Score:\", mean(SilhoutteScores))"
      ],
      "metadata": {
        "colab": {
          "base_uri": "https://localhost:8080/"
        },
        "id": "XzYWzzZkG_N6",
        "outputId": "a3f4375c-3f0a-4257-b10b-a0eb841557d9"
      },
      "execution_count": null,
      "outputs": [
        {
          "output_type": "stream",
          "name": "stdout",
          "text": [
            "\n",
            "SilhouetteScores: [0.6972646156059464, 0.6695939093799408, 0.5334614737117133, 0.5102292997907838]\n",
            "Average Silhoutte Score: 0.6026373246220961\n"
          ]
        }
      ]
    },
    {
      "cell_type": "markdown",
      "source": [
        "Based on your 4 plots, write how many number of clusters is optimal and why?\n",
        "\n",
        "Make sure your answer is based on reasoning covering the following points:\n",
        "\n",
        "\n",
        "*   Average silhouette score\n",
        "*   Thickness of silhouette plots for various clusters\n",
        "*   Fluctuations in size of the silhouette plots\n",
        "\n",
        "\n"
      ],
      "metadata": {
        "id": "h_dbpuz2zhOz"
      }
    },
    {
      "cell_type": "markdown",
      "source": [
        "**ANSWER:**\n",
        "\n",
        "In the visualizations for silhouette score for k= 2 and 3, it can be observed that not all clusters cross the average silhouette score line as a result of which k = 2 and k = 3 are not optimal values for the number of clusters, hence we disregard them. Taking about the silhouette score visualizations for k = 4 and k = 5, it can be observed that all the clusters cross the average silhouette score values and are somewhat properly distributed in terms of size. However the silhouette plot for k=4 has quite large variation in size of cluster 3 in comparison to other clusters. The silhouette plot for k=5 seems to be the optimal solution as they all cross the average silhouette score line, their thickness is properly distributed and similar in some plots also there is no major fluctuation in size of clusters. Hence, k = 5 is the optimal number of clusters among k=[2,3,4,5]."
      ],
      "metadata": {
        "id": "jsG9RqTc4S1c"
      }
    },
    {
      "cell_type": "markdown",
      "source": [
        "# Task 5: CUR Decomposition (30 points)"
      ],
      "metadata": {
        "id": "5MhG9ebo4218"
      }
    },
    {
      "cell_type": "markdown",
      "source": [
        "Implement CUR Decomposition for the ```features``` matrix. \n",
        "\n",
        "\n",
        "*   For matrix C and R use the Column Select Algorithm to choose the columns and rows for C and R respectively. \n",
        "*   For matrix U, find the intersection between the matrices C and R, and then find its pseudo-inverse using ```numpy.linalg.pinv```\n",
        "\n",
        "Choose the rank to be 2. Hence the order of your matrices should be:\n",
        "\n",
        "\n",
        "*   C: (569 X 2)\n",
        "*   U: (2 X 2)\n",
        "*   R: (2 X 30)\n",
        "\n",
        "\n",
        "\n"
      ],
      "metadata": {
        "id": "SJfZWMjt8sWN"
      }
    },
    {
      "cell_type": "code",
      "source": [
        "from numpy.linalg import pinv as inv\n",
        "\n",
        "# Defining the CUR Decomposition function:\n",
        "\n",
        "def cur(matrix, rank):\n",
        "    m = matrix.shape[0]\n",
        "    n = matrix.shape[1]\n",
        "    C = np.empty((m, rank)).T\n",
        "    U = np.empty((rank, rank))\n",
        "    R = np.empty((rank, n))\n",
        "    selected_columns = []\n",
        "    selected_rows = []\n",
        "    col_sqsum = np.square(matrix).sum(axis=0)\n",
        "    row_sqsum = np.square(matrix).sum(axis=1)\n",
        "    total = sum(row_sqsum)\n",
        "    P_col = col_sqsum / total\n",
        "    P_row = row_sqsum / total\n",
        "    for i in range(rank):\n",
        "        j = random.randint(0, n - 1)\n",
        "        selected_columns.append(j)\n",
        "        C[i] = matrix.T[j] / np.sqrt(rank * P_col[j])\n",
        "    for i in range(rank):\n",
        "        j = random.randint(0, m - 1)\n",
        "        selected_rows.append(j)\n",
        "        R[i] = matrix[j] / np.sqrt(rank * P_row[j])\n",
        "    print(\"Selected_columns:\",selected_columns,\"Selected_rows:\",selected_rows)\n",
        "    W = []\n",
        "    for row in selected_rows:\n",
        "      for col in selected_columns:\n",
        "        W.append(matrix[row][col])\n",
        "    W_np = np.array(W)\n",
        "    W_np = W_np.reshape(rank,rank)\n",
        "    u, s, vh = np.linalg.svd(W_np, full_matrices=True)\n",
        "    x = np.diag(s)\n",
        "    st = np.linalg.pinv(x)\n",
        "    U = vh.T*(st**2)*(u.T)\n",
        "    return C.T ,U, R"
      ],
      "metadata": {
        "id": "5EABAw8j4-us"
      },
      "execution_count": null,
      "outputs": []
    },
    {
      "cell_type": "code",
      "source": [
        "#Performing CUR decomposition using the above defined function on features\n",
        "\n",
        "C ,U, R = cur(features.to_numpy(),2)\n",
        "print(\"C:\\n\",C)\n",
        "print(\"Shape of Matrix C:\",C.shape,\"\\n\")\n",
        "print(\"U:\\n\",U)\n",
        "print(\"Shape of Matrix U:\",U.shape,\"\\n\")\n",
        "print(\"R:\\n\",R)\n",
        "print(\"Shape of Matrix R:\",R.shape)"
      ],
      "metadata": {
        "colab": {
          "base_uri": "https://localhost:8080/"
        },
        "id": "u1tPFZBwEhEd",
        "outputId": "95cf45a9-a70f-40af-b5e8-3a408ae9a4eb"
      },
      "execution_count": null,
      "outputs": [
        {
          "output_type": "stream",
          "name": "stdout",
          "text": [
            "Selected_columns: [0, 4] Selected_rows: [296, 165]\n",
            "C:\n",
            " [[1131.9640442  1113.86032408]\n",
            " [1294.30241185  797.20037046]\n",
            " [1238.93118568 1031.0734081 ]\n",
            " ...\n",
            " [1044.50267558  795.41292568]\n",
            " [1296.19006729 1108.21576163]\n",
            " [ 488.27353991  495.12220318]]\n",
            "Shape of Matrix C: (569, 2) \n",
            "\n",
            "U:\n",
            " [[ 1.71639021e-03 -0.00000000e+00]\n",
            " [ 0.00000000e+00 -1.59095526e+03]]\n",
            "Shape of Matrix U: (2, 2) \n",
            "\n",
            "R:\n",
            " [[4.37566651e+02 4.95320636e+02 2.77299342e+03 1.45868919e+04\n",
            "  3.41630865e+00 1.89344836e+00 4.95721706e-01 5.49063928e-01\n",
            "  5.81149475e+00 2.41884920e+00 7.03074555e+00 4.11898213e+01\n",
            "  5.08154855e+01 4.44785899e+02 1.39491917e-01 4.89705665e-01\n",
            "  4.29946334e-01 3.76724432e-01 1.17954493e+00 1.37486570e-01\n",
            "  4.56015841e+02 5.94384763e+02 2.90454417e+03 1.57299396e+04\n",
            "  3.73475770e+00 3.01042647e+00 1.15668398e+00 1.28101548e+00\n",
            "  8.59491598e+00 2.66430363e+00]\n",
            " [3.10576601e+02 4.09952815e+02 1.98130029e+03 1.43193033e+04\n",
            "  1.74707118e+00 1.11035803e+00 4.03936301e-01 4.02276573e-01\n",
            "  3.14310989e+00 1.09251595e+00 3.81737439e+00 2.20951289e+01\n",
            "  2.66801275e+01 3.45223423e+02 7.53931442e-02 1.65620107e-01\n",
            "  1.71532888e-01 1.33442131e-01 3.99164583e-01 3.15348319e-02\n",
            "  3.31530667e+02 5.35677210e+02 2.12237717e+03 1.62259158e+04\n",
            "  2.16801969e+00 2.07362266e+00 1.60786149e+00 1.19375936e+00\n",
            "  5.48955034e+00 1.26243061e+00]]\n",
            "Shape of Matrix R: (2, 30)\n"
          ]
        }
      ]
    },
    {
      "cell_type": "code",
      "source": [
        ""
      ],
      "metadata": {
        "id": "ZNBlJHF5KzKx"
      },
      "execution_count": null,
      "outputs": []
    }
  ]
}